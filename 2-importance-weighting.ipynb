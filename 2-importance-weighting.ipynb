{
 "cells": [
  {
   "cell_type": "markdown",
   "metadata": {},
   "source": [
    "# Notebook 2: Importance Weighting\n",
    "In this notebook, we work through some practical examples that demonstrate how importance weighting works. We:\n",
    "\n",
    "1. Compute importance-weighted accuracy estimates for some synthetic data\n",
    "2. Compute importance-weighted accuracy estimates for the ML pipeline data\n",
    "3. Compare different binning functions' accuracy estimates\n",
    "\n",
    "This notebook should be completed _after_ the first notebook (`1-pipeline-explore.ipynb`)."
   ]
  },
  {
   "cell_type": "code",
   "execution_count": 1,
   "metadata": {},
   "outputs": [],
   "source": [
    "%load_ext autoreload\n",
    "%autoreload 2"
   ]
  },
  {
   "cell_type": "code",
   "execution_count": 12,
   "metadata": {},
   "outputs": [],
   "source": [
    "from datetime import date, datetime, timedelta\n",
    "from pipeline import components\n",
    "from sklearn.metrics import accuracy_score\n",
    "\n",
    "import matplotlib.pyplot as plt\n",
    "import pandas as pd\n",
    "import seaborn as sns"
   ]
  },
  {
   "cell_type": "code",
   "execution_count": 5,
   "metadata": {},
   "outputs": [],
   "source": [
    "# PARAMETERS\n",
    "train_start_date = date(2020, 1, 1)\n",
    "train_end_date = date(2020, 1, 31)\n",
    "inference_start_date = date(2020, 2, 1)\n",
    "inference_end_date = date(2020, 5, 31)\n",
    "cadence = 7\n",
    "\n",
    "feature_columns = [\n",
    "    \"pickup_weekday\",\n",
    "    \"pickup_hour\",\n",
    "    \"pickup_minute\",\n",
    "    \"work_hours\",\n",
    "    \"passenger_count\",\n",
    "    \"trip_distance\",\n",
    "    \"trip_speed\",\n",
    "    \"PULocationID\",\n",
    "    \"DOLocationID\",\n",
    "    \"RatecodeID\",\n",
    "    \"congestion_surcharge\",\n",
    "    \"loc_code_diffs\",\n",
    "]\n",
    "label_column = \"high_tip_indicator\""
   ]
  },
  {
   "cell_type": "markdown",
   "metadata": {},
   "source": [
    "## Synthetic data examples\n",
    "\n",
    "This section will not have any code.\n",
    "\n",
    "Recall that many times during deployments, we may not have access to ground-truth labels for the predictions we make. The goal here is to estimate model performance on our unlabeled predictions. We want our estimations of metrics to be as close to the real metrics as possible.\n",
    "\n",
    "To estimate model metric performance (e.g., accuracy), we come up with a *binning function* that maps a record (features) to some bin. Then, we precompute training metrics for each bin. At inference time, we assign each record to its corresponding bin. Whenever we want to retrieve a metric estimate, we multiply each bin's training accuracy by the *weight* of each bin (how many records are in each bin) and divide by the total number of records.\n",
    "\n",
    "### Questions\n",
    "\n",
    "Suppose we have 5 bins:\n",
    "\n",
    "| **Bin** | **Training Accuracy** |\n",
    "|---------|--------------|\n",
    "| A       | 90%          |\n",
    "| B       | 80%          |\n",
    "| C       | 83%          |\n",
    "| D       | 95%          |\n",
    "| E       | 96%          |\n",
    "\n",
    "1. At inference time, we see 4 records that are assigned to bins A, B, C, and D. What is the resulting accuracy estimate?\n",
    "2. At inference time, we see 2 records that are both assigned to bin A. What is the resulting accuracy estimate?\n",
    "3. At inference time, we see 6 records that are assigned to bins A, B, A, B, and C. What is the resulting accuracy estimate?\n",
    "\n",
    "We can also update our estimates once we receive true labels for predictions.\n",
    "\n",
    "4. At inference time, we see 4 records that are assigned to bins A, B, C, and D. Then, we receive information that the first two records were predicted correctly. What is the resulting accuracy estimate?\n",
    "5. At inference time, we see 4 records that are assigned to bins A, B, C, and D. Then, we receive information that all records are predicted correctly. What is the resulting accuracy estimate?\n",
    "6. At inference time, we see 4 records that are assigned to bins A, B, C, and D. Then, we receive information that the first record was predicted correctly and the second record was predicted incorrectly. What is the resulting accuracy estimate?"
   ]
  },
  {
   "cell_type": "markdown",
   "metadata": {},
   "source": [
    "## ML Pipeline Data\n",
    "\n",
    "We first need to come up with a binning function for our taxi data. Let's start simple -- let's make bins based on pickup time hour. How many bins will we have?"
   ]
  },
  {
   "cell_type": "code",
   "execution_count": 4,
   "metadata": {},
   "outputs": [],
   "source": [
    "def pickup_hour_bin(pickup_time: datetime) -> int:\n",
    "    return int(pickup_time.hour)"
   ]
  },
  {
   "cell_type": "markdown",
   "metadata": {},
   "source": [
    "Then, we will compute training accuracies for each bin. What do you notice -- what hours are the model good at predicting, and what hours are the model bad at predicting?"
   ]
  },
  {
   "cell_type": "code",
   "execution_count": 6,
   "metadata": {},
   "outputs": [],
   "source": [
    "# Clean and featurize data\n",
    "df = components.load_data(train_start_date, train_end_date)\n",
    "clean_df = components.clean_data(df, train_start_date, train_end_date)\n",
    "features_df = components.featurize_data(clean_df)\n",
    "train_predictions, train_scores = components.inference(features_df, feature_columns, label_column)"
   ]
  },
  {
   "cell_type": "code",
   "execution_count": 17,
   "metadata": {},
   "outputs": [],
   "source": [
    "train_predictions[\"bin\"] = train_predictions[\"tpep_pickup_datetime\"].apply(pickup_hour_bin)\n",
    "train_bin_accuracies = train_predictions.groupby(\"bin\")[[label_column, \"prediction\"]].apply(lambda record: accuracy_score(record[label_column].astype(int), record[\"prediction\"].round())).to_frame(name = \"accuracy\")"
   ]
  },
  {
   "cell_type": "code",
   "execution_count": 21,
   "metadata": {},
   "outputs": [
    {
     "data": {
      "image/png": "[encoded data removed]",
      "text/plain": [
       "<Figure size 432x288 with 1 Axes>"
      ]
     },
     "metadata": {
      "needs_background": "light"
     },
     "output_type": "display_data"
    }
   ],
   "source": [
    "plt.title(\"Training accuracy by hour of day\")\n",
    "sns.lineplot(x = \"bin\", y = \"accuracy\", data = train_bin_accuracies)\n",
    "plt.show()"
   ]
  },
  {
   "cell_type": "markdown",
   "metadata": {},
   "source": [
    "Now, we can use these accuracies to estimate accuracy on February 1, 2020 data and beyond."
   ]
  },
  {
   "cell_type": "code",
   "execution_count": 23,
   "metadata": {},
   "outputs": [],
   "source": [
    "true_results = {}\n",
    "estimated_results = {}\n",
    "prev_dt = inference_start_date\n",
    "\n",
    "for n in range(7, int((inference_end_date - inference_start_date).days) + 1, 7):\n",
    "    curr_dt = inference_start_date + timedelta(n)\n",
    "    df = components.load_data(prev_dt, curr_dt)\n",
    "    clean_df = components.clean_data(df, prev_dt, curr_dt)\n",
    "    features_df = components.featurize_data(clean_df)\n",
    "    inference_predictions, scores = components.inference(features_df, feature_columns, label_column)\n",
    "    \n",
    "    # Add prediction counts\n",
    "    inference_predictions[\"bin\"] = inference_predictions[\"tpep_pickup_datetime\"].apply(pickup_hour_bin)\n",
    "    inference_counts = inference_predictions.groupby(\"bin\")[\"prediction\"].count().to_frame(name = \"count\")\n",
    "    inference_counts = inference_counts.merge(train_bin_accuracies, on = \"bin\", how = \"left\")\n",
    "    estimated_accuracy = sum(inference_counts[\"count\"] * inference_counts[\"accuracy\"]) / sum(inference_counts[\"count\"])\n",
    "    \n",
    "    true_results[prev_dt] = scores[\"accuracy_score\"]\n",
    "    estimated_results[prev_dt] = estimated_accuracy\n",
    "    prev_dt = curr_dt\n",
    "\n",
    "result_df = pd.DataFrame({\"date\": true_results.keys(), \"real_accuracy\": true_results.values(), \"estimated_accuracy\": estimated_results.values()})"
   ]
  },
  {
   "cell_type": "code",
   "execution_count": 26,
   "metadata": {},
   "outputs": [
    {
     "data": {
      "image/png": "[encoded data removed]",
      "text/plain": [
       "<Figure size 432x288 with 1 Axes>"
      ]
     },
     "metadata": {
      "needs_background": "light"
     },
     "output_type": "display_data"
    }
   ],
   "source": [
    "plot_df = result_df.melt(id_vars = [\"date\"], value_vars = [\"real_accuracy\", \"estimated_accuracy\"], var_name = \"accuracy_type\", value_name = \"accuracy\")\n",
    "sns.lineplot(x = \"date\", y = \"accuracy\", hue = \"accuracy_type\", data = plot_df)\n",
    "plt.xticks(rotation = 45)\n",
    "plt.show()"
   ]
  },
  {
   "cell_type": "markdown",
   "metadata": {},
   "source": [
    "Looks like the real accuracy diverged a lot from the estimated accuracy, meaning that our estimates were really bad! Can we do better by coming up with finer-grained bins?\n",
    "\n",
    "### Exercise\n",
    "\n",
    "Plot accuracies over times with binning functions based on the following:\n",
    "\n",
    "* Pickup location ID\n",
    "* Dropoff location ID\n",
    "* Passenger count\n",
    "* Trip distance\n",
    "\n",
    "You can decide how you want to bin real-valued variables.\n",
    "\n"
   ]
  },
  {
   "cell_type": "code",
   "execution_count": null,
   "metadata": {},
   "outputs": [],
   "source": []
  }
 ],
 "metadata": {
  "kernelspec": {
   "display_name": "Python 3.9.6 ('toy-ml-pipeline')",
   "language": "python",
   "name": "python3"
  },
  "language_info": {
   "codemirror_mode": {
    "name": "ipython",
    "version": 3
   },
   "file_extension": ".py",
   "mimetype": "text/x-python",
   "name": "python",
   "nbconvert_exporter": "python",
   "pygments_lexer": "ipython3",
   "version": "3.9.6"
  },
  "orig_nbformat": 4,
  "vscode": {
   "interpreter": {
    "hash": "1442a8543d4fcd85d93b3c62576fa736adecb0a392b0ccce28a9ee4d447083de"
   }
  }
 },
 "nbformat": 4,
 "nbformat_minor": 2
}
