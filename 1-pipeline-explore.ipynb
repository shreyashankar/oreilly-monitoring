{
 "cells": [
  {
   "cell_type": "markdown",
   "metadata": {},
   "source": [
    "# Notebook 1: ML Pipeline Exploration\n",
    "\n",
    "This tutorial builds a training and testing pipeline for a toy ML prediction problem: to predict whether a passenger in a NYC taxicab ride will give the driver a nontrivial tip. This is a binary classification task. A nontrivial tip is arbitrarily defined as greater than 10% of the total fare (before tip). To evaluate the model or measure the efficacy of the model, we measure the accuracy. \n",
    "\n",
    "In this notebook, we will put together an ML pipeline. We:\n",
    "\n",
    "1. Train a model on data from January 2020\n",
    "2. Simulate deployment by running inference on a weekly basis from February 1, 2020 to May 31, 2020\n",
    "3. Experience a significant performance decrease in our pipeline (from 83% F1 score to below 70%)\n",
    "\n",
    "## Setup\n",
    "\n",
    "* Create a new environment with Python 3.8 or later\n",
    "* Navigate to the root and download the requirements by running `pip install -r requirements.txt` in your terminal\n",
    "* Open jupyter by running `jupyter-lab` in your terminal or opening the notebook in an editor of your choice (e.g., VSCode)"
   ]
  },
  {
   "cell_type": "code",
   "execution_count": 1,
   "metadata": {},
   "outputs": [],
   "source": [
    "%load_ext autoreload\n",
    "%autoreload 2"
   ]
  },
  {
   "cell_type": "code",
   "execution_count": 43,
   "metadata": {},
   "outputs": [],
   "source": [
    "from datetime import date, timedelta\n",
    "from pipeline import components\n",
    "\n",
    "import matplotlib.pyplot as plt\n",
    "import pandas as pd\n",
    "import seaborn as sns"
   ]
  },
  {
   "cell_type": "markdown",
   "metadata": {},
   "source": [
    "### Parameters\n",
    "\n",
    "We use the yellow taxicab trip records from the NYC Taxi & Limousine Comission [public dataset](https://www1.nyc.gov/site/tlc/about/tlc-trip-record-data.page), which is stored in a public aws S3 bucket. The data dictionary can be found [here](https://www1.nyc.gov/assets/tlc/downloads/pdf/data_dictionary_trip_records_yellow.pdf).\n",
    "\n",
    "We train on January 2020 data and simulate weekly inference / make predictions from February 1 to May 31, 2020. We use features from the data dictionary."
   ]
  },
  {
   "cell_type": "code",
   "execution_count": 14,
   "metadata": {},
   "outputs": [],
   "source": [
    "# PARAMETERS\n",
    "train_start_date = date(2020, 1, 1)\n",
    "train_end_date = date(2020, 1, 31)\n",
    "inference_start_date = date(2020, 2, 1)\n",
    "inference_end_date = date(2020, 5, 31)\n",
    "cadence = 7\n",
    "\n",
    "feature_columns = [\n",
    "    \"pickup_weekday\",\n",
    "    \"pickup_hour\",\n",
    "    \"pickup_minute\",\n",
    "    \"work_hours\",\n",
    "    \"passenger_count\",\n",
    "    \"trip_distance\",\n",
    "    \"trip_speed\",\n",
    "    \"PULocationID\",\n",
    "    \"DOLocationID\",\n",
    "    \"RatecodeID\",\n",
    "    \"congestion_surcharge\",\n",
    "    \"loc_code_diffs\",\n",
    "]\n",
    "label_column = \"high_tip_indicator\""
   ]
  },
  {
   "cell_type": "markdown",
   "metadata": {},
   "source": [
    "### Training and Inference\n",
    "\n",
    "In `pipeline/components.py`, we have defined and implemented functions as part of a pipeline. The training component trains a RandomForestClassifier on the data.\n",
    "\n",
    "TODO(shreyashankar): insert diagram of pipeline here"
   ]
  },
  {
   "cell_type": "code",
   "execution_count": 17,
   "metadata": {},
   "outputs": [
    {
     "name": "stdout",
     "output_type": "stream",
     "text": [
      "Train scores:\n",
      "{'accuracy_score': 0.7054597321103382, 'f1_score': 0.8178915586866272, 'precision_score': 0.7060820570520019, 'recall_score': 0.97177389219552}\n",
      "Test scores:\n",
      "{'accuracy_score': 0.7247045609922844, 'f1_score': 0.8328267477203647, 'precision_score': 0.727088367276493, 'recall_score': 0.9745532357874038}\n",
      "                 feature  importance\n",
      "0   congestion_surcharge    0.400641\n",
      "1        passenger_count    0.247575\n",
      "2             RatecodeID    0.126707\n",
      "3          trip_distance    0.089810\n",
      "4             trip_speed    0.053967\n",
      "5           PULocationID    0.040370\n",
      "6            pickup_hour    0.018170\n",
      "7           DOLocationID    0.013338\n",
      "8         loc_code_diffs    0.007130\n",
      "9         pickup_weekday    0.002013\n",
      "10            work_hours    0.000153\n",
      "11         pickup_minute    0.000125\n"
     ]
    }
   ],
   "source": [
    "# TRAINING\n",
    "\n",
    "# Clean and featurize data\n",
    "df = components.load_data(train_start_date, train_end_date)\n",
    "clean_df = components.clean_data(df, train_start_date, train_end_date)\n",
    "features_df = components.featurize_data(clean_df)\n",
    "\n",
    "# Train model\n",
    "train_df, test_df = components.train_test_split(features_df)\n",
    "components.train_model(train_df, test_df, feature_columns, label_column)"
   ]
  },
  {
   "cell_type": "code",
   "execution_count": 39,
   "metadata": {},
   "outputs": [],
   "source": [
    "# INFERENCE\n",
    "\n",
    "results = {}\n",
    "prev_dt = inference_start_date\n",
    "for n in range(7, int((inference_end_date - inference_start_date).days) + 1, 7):\n",
    "    curr_dt = inference_start_date + timedelta(n)\n",
    "    df = components.load_data(prev_dt, curr_dt)\n",
    "    clean_df = components.clean_data(df, prev_dt, curr_dt)\n",
    "    features_df = components.featurize_data(clean_df)\n",
    "    _, scores = components.inference(features_df, feature_columns, label_column)\n",
    "    results[prev_dt] = scores\n",
    "    prev_dt = curr_dt\n",
    "\n",
    "result_df = pd.DataFrame(results).T.reset_index(drop=False)\n",
    "result_df.rename(columns={\"index\": \"date\"}, inplace=True)"
   ]
  },
  {
   "cell_type": "code",
   "execution_count": 41,
   "metadata": {},
   "outputs": [
    {
     "data": {
      "text/html": [
       "<div>\n",
       "<style scoped>\n",
       "    .dataframe tbody tr th:only-of-type {\n",
       "        vertical-align: middle;\n",
       "    }\n",
       "\n",
       "    .dataframe tbody tr th {\n",
       "        vertical-align: top;\n",
       "    }\n",
       "\n",
       "    .dataframe thead th {\n",
       "        text-align: right;\n",
       "    }\n",
       "</style>\n",
       "<table border=\"1\" class=\"dataframe\">\n",
       "  <thead>\n",
       "    <tr style=\"text-align: right;\">\n",
       "      <th></th>\n",
       "      <th>date</th>\n",
       "      <th>accuracy_score</th>\n",
       "      <th>f1_score</th>\n",
       "      <th>precision_score</th>\n",
       "      <th>recall_score</th>\n",
       "    </tr>\n",
       "  </thead>\n",
       "  <tbody>\n",
       "    <tr>\n",
       "      <th>0</th>\n",
       "      <td>2020-02-01</td>\n",
       "      <td>0.726665</td>\n",
       "      <td>0.834569</td>\n",
       "      <td>0.730602</td>\n",
       "      <td>0.973035</td>\n",
       "    </tr>\n",
       "    <tr>\n",
       "      <th>1</th>\n",
       "      <td>2020-02-08</td>\n",
       "      <td>0.722608</td>\n",
       "      <td>0.831636</td>\n",
       "      <td>0.726005</td>\n",
       "      <td>0.973239</td>\n",
       "    </tr>\n",
       "    <tr>\n",
       "      <th>2</th>\n",
       "      <td>2020-02-15</td>\n",
       "      <td>0.698885</td>\n",
       "      <td>0.814283</td>\n",
       "      <td>0.701183</td>\n",
       "      <td>0.970885</td>\n",
       "    </tr>\n",
       "    <tr>\n",
       "      <th>3</th>\n",
       "      <td>2020-02-22</td>\n",
       "      <td>0.723812</td>\n",
       "      <td>0.832028</td>\n",
       "      <td>0.727006</td>\n",
       "      <td>0.972515</td>\n",
       "    </tr>\n",
       "    <tr>\n",
       "      <th>4</th>\n",
       "      <td>2020-02-29</td>\n",
       "      <td>0.703033</td>\n",
       "      <td>0.816664</td>\n",
       "      <td>0.705343</td>\n",
       "      <td>0.969708</td>\n",
       "    </tr>\n",
       "    <tr>\n",
       "      <th>5</th>\n",
       "      <td>2020-03-07</td>\n",
       "      <td>0.720005</td>\n",
       "      <td>0.827943</td>\n",
       "      <td>0.721591</td>\n",
       "      <td>0.971065</td>\n",
       "    </tr>\n",
       "    <tr>\n",
       "      <th>6</th>\n",
       "      <td>2020-03-14</td>\n",
       "      <td>0.671821</td>\n",
       "      <td>0.783312</td>\n",
       "      <td>0.663323</td>\n",
       "      <td>0.956296</td>\n",
       "    </tr>\n",
       "    <tr>\n",
       "      <th>7</th>\n",
       "      <td>2020-03-21</td>\n",
       "      <td>0.616871</td>\n",
       "      <td>0.722146</td>\n",
       "      <td>0.585481</td>\n",
       "      <td>0.942042</td>\n",
       "    </tr>\n",
       "    <tr>\n",
       "      <th>8</th>\n",
       "      <td>2020-03-28</td>\n",
       "      <td>0.603936</td>\n",
       "      <td>0.705667</td>\n",
       "      <td>0.566190</td>\n",
       "      <td>0.936325</td>\n",
       "    </tr>\n",
       "    <tr>\n",
       "      <th>9</th>\n",
       "      <td>2020-04-04</td>\n",
       "      <td>0.601176</td>\n",
       "      <td>0.699201</td>\n",
       "      <td>0.570326</td>\n",
       "      <td>0.903324</td>\n",
       "    </tr>\n",
       "    <tr>\n",
       "      <th>10</th>\n",
       "      <td>2020-04-11</td>\n",
       "      <td>0.575631</td>\n",
       "      <td>0.683196</td>\n",
       "      <td>0.564109</td>\n",
       "      <td>0.866020</td>\n",
       "    </tr>\n",
       "    <tr>\n",
       "      <th>11</th>\n",
       "      <td>2020-04-18</td>\n",
       "      <td>0.580566</td>\n",
       "      <td>0.686308</td>\n",
       "      <td>0.562946</td>\n",
       "      <td>0.878908</td>\n",
       "    </tr>\n",
       "    <tr>\n",
       "      <th>12</th>\n",
       "      <td>2020-04-25</td>\n",
       "      <td>0.580480</td>\n",
       "      <td>0.671191</td>\n",
       "      <td>0.566667</td>\n",
       "      <td>0.822995</td>\n",
       "    </tr>\n",
       "    <tr>\n",
       "      <th>13</th>\n",
       "      <td>2020-05-02</td>\n",
       "      <td>0.637833</td>\n",
       "      <td>0.680561</td>\n",
       "      <td>0.555070</td>\n",
       "      <td>0.879370</td>\n",
       "    </tr>\n",
       "    <tr>\n",
       "      <th>14</th>\n",
       "      <td>2020-05-09</td>\n",
       "      <td>0.646608</td>\n",
       "      <td>0.676251</td>\n",
       "      <td>0.554586</td>\n",
       "      <td>0.866299</td>\n",
       "    </tr>\n",
       "    <tr>\n",
       "      <th>15</th>\n",
       "      <td>2020-05-16</td>\n",
       "      <td>0.611050</td>\n",
       "      <td>0.689379</td>\n",
       "      <td>0.570068</td>\n",
       "      <td>0.871852</td>\n",
       "    </tr>\n",
       "    <tr>\n",
       "      <th>16</th>\n",
       "      <td>2020-05-23</td>\n",
       "      <td>0.603455</td>\n",
       "      <td>0.694915</td>\n",
       "      <td>0.576634</td>\n",
       "      <td>0.874243</td>\n",
       "    </tr>\n",
       "  </tbody>\n",
       "</table>\n",
       "</div>"
      ],
      "text/plain": [
       "          date  accuracy_score  f1_score  precision_score  recall_score\n",
       "0   2020-02-01        0.726665  0.834569         0.730602      0.973035\n",
       "1   2020-02-08        0.722608  0.831636         0.726005      0.973239\n",
       "2   2020-02-15        0.698885  0.814283         0.701183      0.970885\n",
       "3   2020-02-22        0.723812  0.832028         0.727006      0.972515\n",
       "4   2020-02-29        0.703033  0.816664         0.705343      0.969708\n",
       "5   2020-03-07        0.720005  0.827943         0.721591      0.971065\n",
       "6   2020-03-14        0.671821  0.783312         0.663323      0.956296\n",
       "7   2020-03-21        0.616871  0.722146         0.585481      0.942042\n",
       "8   2020-03-28        0.603936  0.705667         0.566190      0.936325\n",
       "9   2020-04-04        0.601176  0.699201         0.570326      0.903324\n",
       "10  2020-04-11        0.575631  0.683196         0.564109      0.866020\n",
       "11  2020-04-18        0.580566  0.686308         0.562946      0.878908\n",
       "12  2020-04-25        0.580480  0.671191         0.566667      0.822995\n",
       "13  2020-05-02        0.637833  0.680561         0.555070      0.879370\n",
       "14  2020-05-09        0.646608  0.676251         0.554586      0.866299\n",
       "15  2020-05-16        0.611050  0.689379         0.570068      0.871852\n",
       "16  2020-05-23        0.603455  0.694915         0.576634      0.874243"
      ]
     },
     "execution_count": 41,
     "metadata": {},
     "output_type": "execute_result"
    }
   ],
   "source": [
    "result_df"
   ]
  },
  {
   "cell_type": "markdown",
   "metadata": {},
   "source": [
    "### Results\n",
    "\n",
    "Here we plot the accuracy and F1 scores over time."
   ]
  },
  {
   "cell_type": "code",
   "execution_count": 54,
   "metadata": {},
   "outputs": [
    {
     "data": {
      "image/png": "[encoded data removed]",
      "text/plain": [
       "<Figure size 432x288 with 1 Axes>"
      ]
     },
     "metadata": {
      "needs_background": "light"
     },
     "output_type": "display_data"
    }
   ],
   "source": [
    "# PLOTTING\n",
    "\n",
    "result_plot_df = result_df.melt(id_vars=[\"date\"], var_name=\"metric\", value_name=\"score\")\n",
    "sns.lineplot(x=\"date\", y=\"score\", hue=\"metric\", data=result_plot_df)\n",
    "plt.xticks(rotation=45)\n",
    "plt.legend(bbox_to_anchor=(1.05, 1), loc=2, borderaxespad=0.)\n",
    "plt.show()"
   ]
  },
  {
   "cell_type": "markdown",
   "metadata": {},
   "source": [
    "## Exercises\n",
    "\n",
    "1. Currently, we are only tracking accuracy and F1 scores. In the `score` function in `pipeline/components.py`, add code to track precision and recall.\n",
    "2. Regenerate the plot above with all 4 metrics.\n",
    "3. Investigate the plot -- for example, take a look where metrics drop (around COVID-19). Note the nature of metric changes over time.\n",
    "4. Do some exploratory data analysis (EDA) on the data from February 1, 2020 to May 31, 2020. Plot the number of data points per week. Regenerate the metric plots with a 1 or 2-day cadence instead of a 7-day cadence. Note what you observe."
   ]
  },
  {
   "cell_type": "code",
   "execution_count": null,
   "metadata": {},
   "outputs": [],
   "source": []
  }
 ],
 "metadata": {
  "kernelspec": {
   "display_name": "Python 3.9.6 ('toy-ml-pipeline')",
   "language": "python",
   "name": "python3"
  },
  "language_info": {
   "codemirror_mode": {
    "name": "ipython",
    "version": 3
   },
   "file_extension": ".py",
   "mimetype": "text/x-python",
   "name": "python",
   "nbconvert_exporter": "python",
   "pygments_lexer": "ipython3",
   "version": "3.9.6"
  },
  "orig_nbformat": 4,
  "vscode": {
   "interpreter": {
    "hash": "1442a8543d4fcd85d93b3c62576fa736adecb0a392b0ccce28a9ee4d447083de"
   }
  }
 },
 "nbformat": 4,
 "nbformat_minor": 2
}
